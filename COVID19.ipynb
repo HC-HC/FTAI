{
 "cells": [
  {
   "cell_type": "code",
   "execution_count": 0,
   "metadata": {
    "colab": {},
    "colab_type": "code",
    "id": "frbdqfK3zCT5"
   },
   "outputs": [],
   "source": [
    "import pandas as pd\n",
    "import numpy as np\n",
    "import matplotlib.pyplot as plt\n",
    "from google.colab import drive\n",
    "from sklearn.linear_model import LogisticRegression\n",
    "\n",
    "%matplotlib inline"
   ]
  },
  {
   "cell_type": "code",
   "execution_count": 0,
   "metadata": {
    "colab": {
     "base_uri": "https://localhost:8080/",
     "height": 121
    },
    "colab_type": "code",
    "executionInfo": {
     "elapsed": 24702,
     "status": "ok",
     "timestamp": 1590929549335,
     "user": {
      "displayName": "J.D. Zhao",
      "photoUrl": "https://lh3.googleusercontent.com/a-/AOh14Gg69Uyv7KPFlyvoLh3NKujyQGl-fqPpIHfQwjjFBw=s64",
      "userId": "02904637952816276559"
     },
     "user_tz": 420
    },
    "id": "9WbIf-kwyeVr",
    "outputId": "b7b5970a-accc-4fcd-861b-1a21e7ea7e91"
   },
   "outputs": [
    {
     "name": "stdout",
     "output_type": "stream",
     "text": [
      "Go to this URL in a browser: https://accounts.google.com/o/oauth2/auth?client_id=947318989803-6bn6qk8qdgf4n4g3pfee6491hc0brc4i.apps.googleusercontent.com&redirect_uri=urn%3aietf%3awg%3aoauth%3a2.0%3aoob&response_type=code&scope=email%20https%3a%2f%2fwww.googleapis.com%2fauth%2fdocs.test%20https%3a%2f%2fwww.googleapis.com%2fauth%2fdrive%20https%3a%2f%2fwww.googleapis.com%2fauth%2fdrive.photos.readonly%20https%3a%2f%2fwww.googleapis.com%2fauth%2fpeopleapi.readonly\n",
      "\n",
      "Enter your authorization code:\n",
      "··········\n",
      "Mounted at /content/drive\n"
     ]
    }
   ],
   "source": [
    "drive.mount('/content/drive', force_remount = True)"
   ]
  },
  {
   "cell_type": "code",
   "execution_count": 0,
   "metadata": {
    "colab": {
     "base_uri": "https://localhost:8080/",
     "height": 70
    },
    "colab_type": "code",
    "executionInfo": {
     "elapsed": 7292,
     "status": "ok",
     "timestamp": 1590902207342,
     "user": {
      "displayName": "J.D. Zhao",
      "photoUrl": "https://lh3.googleusercontent.com/a-/AOh14Gg69Uyv7KPFlyvoLh3NKujyQGl-fqPpIHfQwjjFBw=s64",
      "userId": "02904637952816276559"
     },
     "user_tz": 420
    },
    "id": "-kF9D2yxy_vn",
    "outputId": "c12dd31e-622d-4c2e-c123-e4fb24173f6a"
   },
   "outputs": [
    {
     "name": "stderr",
     "output_type": "stream",
     "text": [
      "/usr/local/lib/python3.6/dist-packages/IPython/core/interactiveshell.py:2718: DtypeWarning: Columns (5,6,9,10,11,12,33) have mixed types.Specify dtype option on import or set low_memory=False.\n",
      "  interactivity=interactivity, compiler=compiler, result=result)\n"
     ]
    }
   ],
   "source": [
    "file = '/content/drive/My Drive/master_dataset.csv'\n",
    "contents = pd.read_csv(file)"
   ]
  },
  {
   "cell_type": "code",
   "execution_count": 0,
   "metadata": {
    "colab": {
     "base_uri": "https://localhost:8080/",
     "height": 156
    },
    "colab_type": "code",
    "executionInfo": {
     "elapsed": 7005,
     "status": "ok",
     "timestamp": 1590902207473,
     "user": {
      "displayName": "J.D. Zhao",
      "photoUrl": "https://lh3.googleusercontent.com/a-/AOh14Gg69Uyv7KPFlyvoLh3NKujyQGl-fqPpIHfQwjjFBw=s64",
      "userId": "02904637952816276559"
     },
     "user_tz": 420
    },
    "id": "0s7KrFexzdut",
    "outputId": "ecf862d4-4572-49e0-ab71-a027c045d472"
   },
   "outputs": [
    {
     "data": {
      "text/html": [
       "<div>\n",
       "<style scoped>\n",
       "    .dataframe tbody tr th:only-of-type {\n",
       "        vertical-align: middle;\n",
       "    }\n",
       "\n",
       "    .dataframe tbody tr th {\n",
       "        vertical-align: top;\n",
       "    }\n",
       "\n",
       "    .dataframe thead th {\n",
       "        text-align: right;\n",
       "    }\n",
       "</style>\n",
       "<table border=\"1\" class=\"dataframe\">\n",
       "  <thead>\n",
       "    <tr style=\"text-align: right;\">\n",
       "      <th></th>\n",
       "      <th>survey_date</th>\n",
       "      <th>region</th>\n",
       "      <th>country</th>\n",
       "      <th>sex</th>\n",
       "      <th>age</th>\n",
       "      <th>height</th>\n",
       "      <th>weight</th>\n",
       "      <th>bmi</th>\n",
       "      <th>blood_type</th>\n",
       "      <th>insurance</th>\n",
       "      <th>income</th>\n",
       "      <th>race</th>\n",
       "      <th>immigrant</th>\n",
       "      <th>smoking</th>\n",
       "      <th>alcohol</th>\n",
       "      <th>cannabis</th>\n",
       "      <th>amphetamines</th>\n",
       "      <th>cocaine</th>\n",
       "      <th>lsd</th>\n",
       "      <th>mdma</th>\n",
       "      <th>contacts_count</th>\n",
       "      <th>house_count</th>\n",
       "      <th>public_transport_count</th>\n",
       "      <th>working</th>\n",
       "      <th>worried</th>\n",
       "      <th>rate_reducing_risk_single</th>\n",
       "      <th>rate_reducing_risk_single_social_distancing</th>\n",
       "      <th>rate_reducing_risk_single_washing_hands</th>\n",
       "      <th>rate_reducing_risk_house</th>\n",
       "      <th>rate_reducing_risk_house_social_distancing</th>\n",
       "      <th>rate_reducing_risk_house_washing_hands</th>\n",
       "      <th>rate_reducing_risk_single_sanitizer</th>\n",
       "      <th>rate_reducing_mask</th>\n",
       "      <th>rate_reducing_mask_type</th>\n",
       "      <th>rate_government_action</th>\n",
       "      <th>rate_government_control</th>\n",
       "      <th>rate_government_spend</th>\n",
       "      <th>covid19_positive</th>\n",
       "      <th>covid19_symptoms</th>\n",
       "      <th>covid19_contact</th>\n",
       "      <th>asthma</th>\n",
       "      <th>kidney_disease</th>\n",
       "      <th>liver_disease</th>\n",
       "      <th>compromised_immune</th>\n",
       "      <th>heart_disease</th>\n",
       "      <th>lung_disease</th>\n",
       "      <th>diabetes</th>\n",
       "      <th>hiv_positive</th>\n",
       "      <th>hypertension</th>\n",
       "      <th>other_chronic</th>\n",
       "      <th>nursing_home</th>\n",
       "      <th>health_worker</th>\n",
       "      <th>prescription_medication</th>\n",
       "      <th>opinion_infection</th>\n",
       "      <th>opinion_mortality</th>\n",
       "      <th>risk_infection</th>\n",
       "      <th>risk_mortality</th>\n",
       "    </tr>\n",
       "  </thead>\n",
       "  <tbody>\n",
       "    <tr>\n",
       "      <th>0</th>\n",
       "      <td>3/24/2020</td>\n",
       "      <td>NaN</td>\n",
       "      <td>CA</td>\n",
       "      <td>male</td>\n",
       "      <td>20_30</td>\n",
       "      <td>178</td>\n",
       "      <td>88</td>\n",
       "      <td>27.7</td>\n",
       "      <td>bn</td>\n",
       "      <td>NaN</td>\n",
       "      <td>NaN</td>\n",
       "      <td>NaN</td>\n",
       "      <td>NaN</td>\n",
       "      <td>NaN</td>\n",
       "      <td>NaN</td>\n",
       "      <td>NaN</td>\n",
       "      <td>NaN</td>\n",
       "      <td>NaN</td>\n",
       "      <td>NaN</td>\n",
       "      <td>NaN</td>\n",
       "      <td>NaN</td>\n",
       "      <td>4.0</td>\n",
       "      <td>NaN</td>\n",
       "      <td>NaN</td>\n",
       "      <td>NaN</td>\n",
       "      <td>0</td>\n",
       "      <td>0</td>\n",
       "      <td>0</td>\n",
       "      <td>0</td>\n",
       "      <td>0</td>\n",
       "      <td>0</td>\n",
       "      <td>0</td>\n",
       "      <td>NaN</td>\n",
       "      <td>NaN</td>\n",
       "      <td>1</td>\n",
       "      <td>0</td>\n",
       "      <td>0</td>\n",
       "      <td>0</td>\n",
       "      <td>0</td>\n",
       "      <td>0</td>\n",
       "      <td>0</td>\n",
       "      <td>0</td>\n",
       "      <td>0</td>\n",
       "      <td>0</td>\n",
       "      <td>0</td>\n",
       "      <td>0</td>\n",
       "      <td>0</td>\n",
       "      <td>0</td>\n",
       "      <td>0</td>\n",
       "      <td>0</td>\n",
       "      <td>0</td>\n",
       "      <td>0</td>\n",
       "      <td>NaN</td>\n",
       "      <td>NaN</td>\n",
       "      <td>NaN</td>\n",
       "      <td>5.0</td>\n",
       "      <td>0.050</td>\n",
       "    </tr>\n",
       "    <tr>\n",
       "      <th>1</th>\n",
       "      <td>3/25/2020</td>\n",
       "      <td>NaN</td>\n",
       "      <td>CA</td>\n",
       "      <td>female</td>\n",
       "      <td>30_40</td>\n",
       "      <td>158</td>\n",
       "      <td>54</td>\n",
       "      <td>21.6</td>\n",
       "      <td>unknown</td>\n",
       "      <td>NaN</td>\n",
       "      <td>NaN</td>\n",
       "      <td>NaN</td>\n",
       "      <td>NaN</td>\n",
       "      <td>NaN</td>\n",
       "      <td>NaN</td>\n",
       "      <td>NaN</td>\n",
       "      <td>NaN</td>\n",
       "      <td>NaN</td>\n",
       "      <td>NaN</td>\n",
       "      <td>NaN</td>\n",
       "      <td>NaN</td>\n",
       "      <td>2.0</td>\n",
       "      <td>NaN</td>\n",
       "      <td>NaN</td>\n",
       "      <td>NaN</td>\n",
       "      <td>0</td>\n",
       "      <td>0</td>\n",
       "      <td>0</td>\n",
       "      <td>0</td>\n",
       "      <td>0</td>\n",
       "      <td>0</td>\n",
       "      <td>0</td>\n",
       "      <td>NaN</td>\n",
       "      <td>NaN</td>\n",
       "      <td>0</td>\n",
       "      <td>0</td>\n",
       "      <td>0</td>\n",
       "      <td>0</td>\n",
       "      <td>0</td>\n",
       "      <td>0</td>\n",
       "      <td>0</td>\n",
       "      <td>0</td>\n",
       "      <td>0</td>\n",
       "      <td>0</td>\n",
       "      <td>0</td>\n",
       "      <td>0</td>\n",
       "      <td>0</td>\n",
       "      <td>0</td>\n",
       "      <td>0</td>\n",
       "      <td>0</td>\n",
       "      <td>0</td>\n",
       "      <td>0</td>\n",
       "      <td>NaN</td>\n",
       "      <td>NaN</td>\n",
       "      <td>NaN</td>\n",
       "      <td>5.0</td>\n",
       "      <td>0.050</td>\n",
       "    </tr>\n",
       "    <tr>\n",
       "      <th>2</th>\n",
       "      <td>3/25/2020</td>\n",
       "      <td>NaN</td>\n",
       "      <td>CA</td>\n",
       "      <td>male</td>\n",
       "      <td>80_90</td>\n",
       "      <td>184</td>\n",
       "      <td>94</td>\n",
       "      <td>27.7</td>\n",
       "      <td>an</td>\n",
       "      <td>NaN</td>\n",
       "      <td>NaN</td>\n",
       "      <td>NaN</td>\n",
       "      <td>NaN</td>\n",
       "      <td>NaN</td>\n",
       "      <td>NaN</td>\n",
       "      <td>NaN</td>\n",
       "      <td>NaN</td>\n",
       "      <td>NaN</td>\n",
       "      <td>NaN</td>\n",
       "      <td>NaN</td>\n",
       "      <td>NaN</td>\n",
       "      <td>4.0</td>\n",
       "      <td>NaN</td>\n",
       "      <td>NaN</td>\n",
       "      <td>NaN</td>\n",
       "      <td>0</td>\n",
       "      <td>0</td>\n",
       "      <td>0</td>\n",
       "      <td>0</td>\n",
       "      <td>0</td>\n",
       "      <td>0</td>\n",
       "      <td>0</td>\n",
       "      <td>NaN</td>\n",
       "      <td>NaN</td>\n",
       "      <td>1</td>\n",
       "      <td>0</td>\n",
       "      <td>0</td>\n",
       "      <td>0</td>\n",
       "      <td>0</td>\n",
       "      <td>0</td>\n",
       "      <td>0</td>\n",
       "      <td>0</td>\n",
       "      <td>0</td>\n",
       "      <td>1</td>\n",
       "      <td>0</td>\n",
       "      <td>1</td>\n",
       "      <td>1</td>\n",
       "      <td>0</td>\n",
       "      <td>1</td>\n",
       "      <td>0</td>\n",
       "      <td>0</td>\n",
       "      <td>0</td>\n",
       "      <td>NaN</td>\n",
       "      <td>NaN</td>\n",
       "      <td>NaN</td>\n",
       "      <td>12.0</td>\n",
       "      <td>14.701</td>\n",
       "    </tr>\n",
       "  </tbody>\n",
       "</table>\n",
       "</div>"
      ],
      "text/plain": [
       "  survey_date region country  ... opinion_mortality risk_infection risk_mortality\n",
       "0   3/24/2020    NaN      CA  ...               NaN            5.0          0.050\n",
       "1   3/25/2020    NaN      CA  ...               NaN            5.0          0.050\n",
       "2   3/25/2020    NaN      CA  ...               NaN           12.0         14.701\n",
       "\n",
       "[3 rows x 57 columns]"
      ]
     },
     "execution_count": 81,
     "metadata": {
      "tags": []
     },
     "output_type": "execute_result"
    }
   ],
   "source": [
    "contents[:3]"
   ]
  },
  {
   "cell_type": "code",
   "execution_count": 0,
   "metadata": {
    "colab": {},
    "colab_type": "code",
    "id": "J8mviZMxEE7S"
   },
   "outputs": [],
   "source": [
    "y = contents['covid19_positive'].values"
   ]
  },
  {
   "cell_type": "code",
   "execution_count": 0,
   "metadata": {
    "colab": {},
    "colab_type": "code",
    "id": "YgsxPn3l03_R"
   },
   "outputs": [],
   "source": [
    "contents = contents.fillna(value=0)"
   ]
  },
  {
   "cell_type": "code",
   "execution_count": 0,
   "metadata": {
    "colab": {},
    "colab_type": "code",
    "id": "j00E6CjBDISr"
   },
   "outputs": [],
   "source": [
    "ages = contents['age']"
   ]
  },
  {
   "cell_type": "code",
   "execution_count": 0,
   "metadata": {
    "colab": {},
    "colab_type": "code",
    "id": "hVX4DsWBDKZQ"
   },
   "outputs": [],
   "source": [
    "ages_two = [str(i).split('_') for i in list(ages.values)]"
   ]
  },
  {
   "cell_type": "code",
   "execution_count": 0,
   "metadata": {
    "colab": {},
    "colab_type": "code",
    "id": "UwV8vxEDDMEj"
   },
   "outputs": [],
   "source": [
    "new_ages = []\n",
    "\n",
    "for age_set in ages_two:\n",
    "    if len(age_set) == 2:\n",
    "        new_ages.append((int(age_set[0]) + int(age_set[1])) * 0.5)\n",
    "    else:\n",
    "        new_ages.append(None)\n",
    "        \n",
    "contents['age'] = new_ages"
   ]
  },
  {
   "cell_type": "code",
   "execution_count": 0,
   "metadata": {
    "colab": {},
    "colab_type": "code",
    "id": "rsRIS3PfDP3u"
   },
   "outputs": [],
   "source": [
    "X = [list(risks) for risks in zip(contents['age'][:100000], contents['height'], contents['weight'], contents['bmi'], contents['house_count'], contents.iloc[:, 38], contents.iloc[:, 39], contents.iloc[:, 40], contents.iloc[:, 41], contents.iloc[:, 42], contents.iloc[:, 43], contents.iloc[:, 44], contents.iloc[:, 45], contents.iloc[:, 46], contents.iloc[:, 47], contents.iloc[:, 48], contents.iloc[:, 49], contents.iloc[:, 50], contents.iloc[:, 51], contents.iloc[:, 52])]\n",
    "X = np.array(X)"
   ]
  },
  {
   "cell_type": "code",
   "execution_count": 0,
   "metadata": {
    "colab": {},
    "colab_type": "code",
    "id": "lJcNnOVpDdbx"
   },
   "outputs": [],
   "source": [
    "big_lst = []\n",
    "for row in X:\n",
    "    lst = []\n",
    "    for val in row:\n",
    "        try:\n",
    "            f = float(val)\n",
    "            lst.append(f)\n",
    "        except ValueError:\n",
    "            lst.append(0)\n",
    "    big_lst.append(lst)"
   ]
  },
  {
   "cell_type": "code",
   "execution_count": 0,
   "metadata": {
    "colab": {},
    "colab_type": "code",
    "id": "-ShW_az9Dh0e"
   },
   "outputs": [],
   "source": [
    "X = np.array(big_lst)"
   ]
  },
  {
   "cell_type": "code",
   "execution_count": 0,
   "metadata": {
    "colab": {
     "base_uri": "https://localhost:8080/",
     "height": 34
    },
    "colab_type": "code",
    "executionInfo": {
     "elapsed": 21280,
     "status": "ok",
     "timestamp": 1590900299887,
     "user": {
      "displayName": "J.D. Zhao",
      "photoUrl": "https://lh3.googleusercontent.com/a-/AOh14Gg69Uyv7KPFlyvoLh3NKujyQGl-fqPpIHfQwjjFBw=s64",
      "userId": "02904637952816276559"
     },
     "user_tz": 420
    },
    "id": "1Ofh21C9SEhi",
    "outputId": "786f07c9-62ab-4efd-aa7d-b53fb379db4a"
   },
   "outputs": [
    {
     "data": {
      "text/plain": [
       "(100000, 20)"
      ]
     },
     "execution_count": 49,
     "metadata": {
      "tags": []
     },
     "output_type": "execute_result"
    }
   ],
   "source": [
    "X.shape"
   ]
  },
  {
   "cell_type": "code",
   "execution_count": 0,
   "metadata": {
    "colab": {},
    "colab_type": "code",
    "id": "zFCZ0bHaDuel"
   },
   "outputs": [],
   "source": [
    "logisticregression = LogisticRegression(max_iter=2000)"
   ]
  },
  {
   "cell_type": "code",
   "execution_count": 0,
   "metadata": {
    "colab": {
     "base_uri": "https://localhost:8080/",
     "height": 101
    },
    "colab_type": "code",
    "executionInfo": {
     "elapsed": 55211,
     "status": "ok",
     "timestamp": 1590900333826,
     "user": {
      "displayName": "J.D. Zhao",
      "photoUrl": "https://lh3.googleusercontent.com/a-/AOh14Gg69Uyv7KPFlyvoLh3NKujyQGl-fqPpIHfQwjjFBw=s64",
      "userId": "02904637952816276559"
     },
     "user_tz": 420
    },
    "id": "kDXwIsjID0KR",
    "outputId": "bb72a206-38c5-4570-88c2-84ff3a8d33c0"
   },
   "outputs": [
    {
     "data": {
      "text/plain": [
       "LogisticRegression(C=1.0, class_weight=None, dual=False, fit_intercept=True,\n",
       "                   intercept_scaling=1, l1_ratio=None, max_iter=2000,\n",
       "                   multi_class='auto', n_jobs=None, penalty='l2',\n",
       "                   random_state=None, solver='lbfgs', tol=0.0001, verbose=0,\n",
       "                   warm_start=False)"
      ]
     },
     "execution_count": 51,
     "metadata": {
      "tags": []
     },
     "output_type": "execute_result"
    }
   ],
   "source": [
    "logisticregression.fit(X = X[:100000], y = y[:100000])"
   ]
  },
  {
   "cell_type": "code",
   "execution_count": 0,
   "metadata": {
    "colab": {},
    "colab_type": "code",
    "id": "oHfzC7vkD6_Z"
   },
   "outputs": [],
   "source": [
    "probs = logisticregression.predict_proba(X[:10000])"
   ]
  },
  {
   "cell_type": "code",
   "execution_count": 0,
   "metadata": {
    "colab": {},
    "colab_type": "code",
    "id": "9zWNgJswGx9w"
   },
   "outputs": [],
   "source": [
    "prob_covid = probs[:, 1]"
   ]
  },
  {
   "cell_type": "code",
   "execution_count": 0,
   "metadata": {
    "colab": {},
    "colab_type": "code",
    "id": "4TVwo5sWMn0v"
   },
   "outputs": [],
   "source": [
    "low_risk = plt.imread()"
   ]
  },
  {
   "cell_type": "code",
   "execution_count": 0,
   "metadata": {
    "colab": {
     "base_uri": "https://localhost:8080/",
     "height": 34
    },
    "colab_type": "code",
    "executionInfo": {
     "elapsed": 55203,
     "status": "ok",
     "timestamp": 1590900333829,
     "user": {
      "displayName": "J.D. Zhao",
      "photoUrl": "https://lh3.googleusercontent.com/a-/AOh14Gg69Uyv7KPFlyvoLh3NKujyQGl-fqPpIHfQwjjFBw=s64",
      "userId": "02904637952816276559"
     },
     "user_tz": 420
    },
    "id": "SxMWLCXLG4b8",
    "outputId": "18b59690-7dba-4454-f2f5-6ca7684d1e4a"
   },
   "outputs": [
    {
     "data": {
      "text/plain": [
       "(100000, 20)"
      ]
     },
     "execution_count": 54,
     "metadata": {
      "tags": []
     },
     "output_type": "execute_result"
    }
   ],
   "source": [
    "X.shape"
   ]
  },
  {
   "cell_type": "code",
   "execution_count": 0,
   "metadata": {
    "colab": {
     "base_uri": "https://localhost:8080/",
     "height": 1000
    },
    "colab_type": "code",
    "executionInfo": {
     "elapsed": 57260,
     "status": "ok",
     "timestamp": 1590900335895,
     "user": {
      "displayName": "J.D. Zhao",
      "photoUrl": "https://lh3.googleusercontent.com/a-/AOh14Gg69Uyv7KPFlyvoLh3NKujyQGl-fqPpIHfQwjjFBw=s64",
      "userId": "02904637952816276559"
     },
     "user_tz": 420
    },
    "id": "yhrzOKIkE6jL",
    "outputId": "06136512-b879-4158-e912-260b6cdc193d"
   },
   "outputs": [
    {
     "data": {
      "text/plain": [
       "(array([6.600e+01, 7.100e+01, 4.230e+02, 1.380e+03, 1.870e+03, 1.852e+03,\n",
       "        1.298e+03, 7.710e+02, 5.560e+02, 3.680e+02, 2.700e+02, 1.650e+02,\n",
       "        1.190e+02, 6.900e+01, 6.600e+01, 4.200e+01, 3.500e+01, 3.400e+01,\n",
       "        3.100e+01, 2.200e+01, 2.500e+01, 2.300e+01, 9.000e+00, 1.600e+01,\n",
       "        1.500e+01, 1.500e+01, 2.500e+01, 1.800e+01, 1.500e+01, 1.600e+01,\n",
       "        1.000e+01, 1.700e+01, 8.000e+00, 9.000e+00, 1.000e+01, 4.000e+00,\n",
       "        3.000e+00, 7.000e+00, 3.000e+00, 4.000e+00, 1.000e+00, 7.000e+00,\n",
       "        3.000e+00, 7.000e+00, 3.000e+00, 7.000e+00, 0.000e+00, 1.000e+00,\n",
       "        5.000e+00, 1.000e+00, 4.000e+00, 0.000e+00, 1.000e+00, 1.000e+00,\n",
       "        2.000e+00, 2.000e+00, 1.000e+00, 1.000e+00, 0.000e+00, 0.000e+00,\n",
       "        0.000e+00, 0.000e+00, 0.000e+00, 1.000e+00, 1.000e+00, 0.000e+00,\n",
       "        2.000e+00, 2.000e+00, 1.000e+00, 1.000e+00, 1.000e+00, 0.000e+00,\n",
       "        1.000e+00, 0.000e+00, 0.000e+00, 1.000e+00, 1.000e+00, 0.000e+00,\n",
       "        0.000e+00, 1.000e+00, 1.000e+00, 2.000e+00, 1.000e+00, 1.000e+00,\n",
       "        4.000e+00, 0.000e+00, 2.000e+00, 1.000e+00, 1.000e+00, 4.000e+00,\n",
       "        5.000e+00, 1.000e+00, 1.000e+00, 3.000e+00, 0.000e+00, 2.000e+00,\n",
       "        1.000e+00, 4.000e+00, 3.000e+00, 5.000e+00, 3.000e+00, 3.000e+00,\n",
       "        2.000e+00, 2.000e+00, 4.000e+00, 5.000e+00, 3.000e+00, 3.000e+00,\n",
       "        3.000e+00, 4.000e+00, 5.000e+00, 1.000e+00, 1.000e+00, 1.000e+00,\n",
       "        1.000e+00, 2.000e+00, 1.000e+00, 1.000e+00, 4.000e+00, 2.000e+00,\n",
       "        1.000e+00, 1.000e+00, 0.000e+00, 0.000e+00, 6.000e+00, 3.000e+00,\n",
       "        1.000e+00, 1.000e+00, 0.000e+00, 0.000e+00, 0.000e+00, 1.000e+00,\n",
       "        2.000e+00, 3.000e+00, 0.000e+00, 2.000e+00, 3.000e+00, 1.000e+00,\n",
       "        0.000e+00, 2.000e+00, 0.000e+00, 0.000e+00, 1.000e+00, 1.000e+00,\n",
       "        0.000e+00, 1.000e+00, 0.000e+00, 0.000e+00, 2.000e+00, 0.000e+00,\n",
       "        1.000e+00, 0.000e+00, 1.000e+00, 0.000e+00, 0.000e+00, 1.000e+00,\n",
       "        1.000e+00, 1.000e+00, 0.000e+00, 3.000e+00, 0.000e+00, 0.000e+00,\n",
       "        0.000e+00, 0.000e+00, 0.000e+00, 0.000e+00, 0.000e+00, 0.000e+00,\n",
       "        0.000e+00, 1.000e+00, 0.000e+00, 0.000e+00, 1.000e+00, 0.000e+00,\n",
       "        0.000e+00, 2.000e+00, 0.000e+00, 1.000e+00, 1.000e+00, 0.000e+00,\n",
       "        2.000e+00, 2.000e+00, 0.000e+00, 0.000e+00, 0.000e+00, 0.000e+00,\n",
       "        2.000e+00, 0.000e+00, 0.000e+00, 0.000e+00, 0.000e+00, 0.000e+00,\n",
       "        0.000e+00, 0.000e+00, 0.000e+00, 0.000e+00, 0.000e+00, 0.000e+00,\n",
       "        0.000e+00, 0.000e+00, 0.000e+00, 0.000e+00, 0.000e+00, 0.000e+00,\n",
       "        0.000e+00, 0.000e+00, 1.000e+00, 0.000e+00, 0.000e+00, 0.000e+00,\n",
       "        0.000e+00, 0.000e+00, 0.000e+00, 0.000e+00, 0.000e+00, 0.000e+00,\n",
       "        0.000e+00, 0.000e+00, 0.000e+00, 0.000e+00, 0.000e+00, 0.000e+00,\n",
       "        0.000e+00, 0.000e+00, 0.000e+00, 0.000e+00, 0.000e+00, 0.000e+00,\n",
       "        0.000e+00, 0.000e+00, 0.000e+00, 1.000e+00, 0.000e+00, 1.000e+00,\n",
       "        0.000e+00, 0.000e+00, 0.000e+00, 0.000e+00, 0.000e+00, 0.000e+00,\n",
       "        0.000e+00, 0.000e+00, 0.000e+00, 0.000e+00, 0.000e+00, 0.000e+00,\n",
       "        0.000e+00, 0.000e+00, 0.000e+00, 0.000e+00, 0.000e+00, 0.000e+00,\n",
       "        0.000e+00, 0.000e+00, 0.000e+00, 0.000e+00, 0.000e+00, 0.000e+00,\n",
       "        1.000e+00, 0.000e+00, 0.000e+00, 0.000e+00, 0.000e+00, 0.000e+00,\n",
       "        0.000e+00, 0.000e+00, 0.000e+00, 0.000e+00, 0.000e+00, 0.000e+00,\n",
       "        0.000e+00, 0.000e+00, 0.000e+00, 0.000e+00, 0.000e+00, 0.000e+00,\n",
       "        1.000e+00, 1.000e+00, 1.000e+00, 0.000e+00, 0.000e+00, 0.000e+00,\n",
       "        0.000e+00, 0.000e+00, 0.000e+00, 0.000e+00, 0.000e+00, 0.000e+00,\n",
       "        0.000e+00, 0.000e+00, 0.000e+00, 0.000e+00, 0.000e+00, 0.000e+00,\n",
       "        0.000e+00, 0.000e+00, 0.000e+00, 0.000e+00, 0.000e+00, 0.000e+00,\n",
       "        0.000e+00, 0.000e+00, 0.000e+00, 0.000e+00, 1.000e+00, 0.000e+00,\n",
       "        0.000e+00, 0.000e+00, 0.000e+00, 0.000e+00, 0.000e+00, 0.000e+00,\n",
       "        0.000e+00, 0.000e+00, 0.000e+00, 0.000e+00, 0.000e+00, 0.000e+00,\n",
       "        0.000e+00, 0.000e+00, 0.000e+00, 0.000e+00, 0.000e+00, 0.000e+00,\n",
       "        0.000e+00, 0.000e+00, 0.000e+00, 0.000e+00, 0.000e+00, 0.000e+00,\n",
       "        0.000e+00, 0.000e+00, 0.000e+00, 0.000e+00, 0.000e+00, 0.000e+00,\n",
       "        1.000e+00, 0.000e+00, 0.000e+00, 0.000e+00, 0.000e+00, 0.000e+00,\n",
       "        0.000e+00, 0.000e+00, 1.000e+00, 0.000e+00, 0.000e+00, 0.000e+00,\n",
       "        0.000e+00, 0.000e+00, 0.000e+00, 0.000e+00, 0.000e+00, 0.000e+00,\n",
       "        0.000e+00, 0.000e+00, 0.000e+00, 0.000e+00, 0.000e+00, 0.000e+00,\n",
       "        0.000e+00, 0.000e+00, 0.000e+00, 0.000e+00, 0.000e+00, 1.000e+00,\n",
       "        0.000e+00, 0.000e+00, 0.000e+00, 0.000e+00, 0.000e+00, 0.000e+00,\n",
       "        1.000e+00, 0.000e+00, 0.000e+00, 0.000e+00, 0.000e+00, 1.000e+00,\n",
       "        1.000e+00, 0.000e+00, 0.000e+00, 0.000e+00, 0.000e+00, 0.000e+00,\n",
       "        0.000e+00, 1.000e+00, 0.000e+00, 0.000e+00, 0.000e+00, 0.000e+00,\n",
       "        0.000e+00, 0.000e+00, 0.000e+00, 0.000e+00, 0.000e+00, 0.000e+00,\n",
       "        0.000e+00, 0.000e+00, 0.000e+00, 0.000e+00, 0.000e+00, 0.000e+00,\n",
       "        0.000e+00, 0.000e+00, 0.000e+00, 0.000e+00, 0.000e+00, 0.000e+00,\n",
       "        0.000e+00, 0.000e+00, 0.000e+00, 0.000e+00, 0.000e+00, 0.000e+00,\n",
       "        0.000e+00, 0.000e+00, 1.000e+00, 0.000e+00, 0.000e+00, 0.000e+00,\n",
       "        0.000e+00, 0.000e+00, 0.000e+00, 0.000e+00, 0.000e+00, 0.000e+00,\n",
       "        0.000e+00, 0.000e+00, 0.000e+00, 0.000e+00, 0.000e+00, 0.000e+00,\n",
       "        0.000e+00, 0.000e+00, 0.000e+00, 1.000e+00, 0.000e+00, 0.000e+00,\n",
       "        0.000e+00, 0.000e+00, 1.000e+00, 0.000e+00, 0.000e+00, 0.000e+00,\n",
       "        0.000e+00, 0.000e+00, 0.000e+00, 0.000e+00, 0.000e+00, 0.000e+00,\n",
       "        0.000e+00, 0.000e+00, 0.000e+00, 0.000e+00, 0.000e+00, 0.000e+00,\n",
       "        0.000e+00, 0.000e+00, 1.000e+00, 0.000e+00, 0.000e+00, 0.000e+00,\n",
       "        0.000e+00, 0.000e+00, 0.000e+00, 0.000e+00, 0.000e+00, 0.000e+00,\n",
       "        0.000e+00, 0.000e+00, 0.000e+00, 0.000e+00, 0.000e+00, 0.000e+00,\n",
       "        0.000e+00, 1.000e+00, 0.000e+00, 0.000e+00, 0.000e+00, 0.000e+00,\n",
       "        0.000e+00, 0.000e+00, 0.000e+00, 0.000e+00, 0.000e+00, 0.000e+00,\n",
       "        0.000e+00, 0.000e+00, 0.000e+00, 0.000e+00, 0.000e+00, 0.000e+00,\n",
       "        0.000e+00, 0.000e+00, 0.000e+00, 0.000e+00, 0.000e+00, 0.000e+00,\n",
       "        0.000e+00, 0.000e+00, 0.000e+00, 0.000e+00, 0.000e+00, 0.000e+00,\n",
       "        0.000e+00, 0.000e+00, 0.000e+00, 0.000e+00, 0.000e+00, 0.000e+00,\n",
       "        0.000e+00, 0.000e+00, 0.000e+00, 0.000e+00, 0.000e+00, 0.000e+00,\n",
       "        0.000e+00, 0.000e+00, 0.000e+00, 0.000e+00, 0.000e+00, 0.000e+00,\n",
       "        0.000e+00, 0.000e+00, 0.000e+00, 0.000e+00, 0.000e+00, 0.000e+00,\n",
       "        0.000e+00, 0.000e+00, 0.000e+00, 0.000e+00, 0.000e+00, 0.000e+00,\n",
       "        0.000e+00, 0.000e+00, 0.000e+00, 0.000e+00, 0.000e+00, 0.000e+00,\n",
       "        0.000e+00, 0.000e+00, 0.000e+00, 0.000e+00, 0.000e+00, 0.000e+00,\n",
       "        0.000e+00, 0.000e+00, 0.000e+00, 0.000e+00, 0.000e+00, 0.000e+00,\n",
       "        0.000e+00, 0.000e+00, 0.000e+00, 0.000e+00, 0.000e+00, 0.000e+00,\n",
       "        0.000e+00, 0.000e+00, 1.000e+00, 1.000e+00, 0.000e+00, 0.000e+00,\n",
       "        0.000e+00, 1.000e+00, 2.000e+00, 0.000e+00, 0.000e+00, 0.000e+00,\n",
       "        0.000e+00, 0.000e+00, 0.000e+00, 0.000e+00, 0.000e+00, 0.000e+00,\n",
       "        0.000e+00, 0.000e+00, 1.000e+00, 0.000e+00, 0.000e+00, 0.000e+00,\n",
       "        0.000e+00, 0.000e+00, 0.000e+00, 0.000e+00, 0.000e+00, 0.000e+00,\n",
       "        0.000e+00, 0.000e+00, 0.000e+00, 0.000e+00, 0.000e+00, 0.000e+00,\n",
       "        0.000e+00, 0.000e+00, 0.000e+00, 0.000e+00, 0.000e+00, 1.000e+00,\n",
       "        0.000e+00, 0.000e+00, 0.000e+00, 1.000e+00, 0.000e+00, 0.000e+00,\n",
       "        0.000e+00, 0.000e+00, 0.000e+00, 0.000e+00, 0.000e+00, 0.000e+00,\n",
       "        0.000e+00, 0.000e+00, 0.000e+00, 0.000e+00, 0.000e+00, 0.000e+00,\n",
       "        1.000e+00, 0.000e+00, 0.000e+00, 0.000e+00, 0.000e+00, 0.000e+00,\n",
       "        0.000e+00, 0.000e+00, 0.000e+00, 0.000e+00, 0.000e+00, 0.000e+00,\n",
       "        0.000e+00, 0.000e+00, 0.000e+00, 0.000e+00, 0.000e+00, 0.000e+00,\n",
       "        0.000e+00, 0.000e+00, 0.000e+00, 0.000e+00, 0.000e+00, 1.000e+00,\n",
       "        0.000e+00, 0.000e+00, 0.000e+00, 0.000e+00, 0.000e+00, 0.000e+00,\n",
       "        0.000e+00, 0.000e+00, 0.000e+00, 0.000e+00, 0.000e+00, 0.000e+00,\n",
       "        0.000e+00, 0.000e+00, 0.000e+00, 0.000e+00, 0.000e+00, 0.000e+00,\n",
       "        0.000e+00, 0.000e+00, 1.000e+00, 0.000e+00, 0.000e+00, 0.000e+00,\n",
       "        0.000e+00, 0.000e+00, 0.000e+00, 0.000e+00, 0.000e+00, 0.000e+00,\n",
       "        0.000e+00, 0.000e+00, 0.000e+00, 0.000e+00, 0.000e+00, 0.000e+00,\n",
       "        0.000e+00, 0.000e+00, 0.000e+00, 0.000e+00, 0.000e+00, 0.000e+00,\n",
       "        0.000e+00, 0.000e+00, 0.000e+00, 0.000e+00, 0.000e+00, 0.000e+00,\n",
       "        0.000e+00, 0.000e+00, 0.000e+00, 0.000e+00, 0.000e+00, 0.000e+00,\n",
       "        0.000e+00, 0.000e+00, 0.000e+00, 2.000e+00, 0.000e+00, 0.000e+00,\n",
       "        0.000e+00, 0.000e+00, 0.000e+00, 0.000e+00, 0.000e+00, 0.000e+00,\n",
       "        0.000e+00, 0.000e+00, 0.000e+00, 0.000e+00, 0.000e+00, 0.000e+00,\n",
       "        0.000e+00, 0.000e+00, 0.000e+00, 0.000e+00, 0.000e+00, 0.000e+00,\n",
       "        0.000e+00, 0.000e+00, 0.000e+00, 0.000e+00, 0.000e+00, 0.000e+00,\n",
       "        0.000e+00, 0.000e+00, 0.000e+00, 0.000e+00, 0.000e+00, 0.000e+00,\n",
       "        0.000e+00, 0.000e+00, 0.000e+00, 0.000e+00, 0.000e+00, 0.000e+00,\n",
       "        0.000e+00, 0.000e+00, 0.000e+00, 0.000e+00, 0.000e+00, 0.000e+00,\n",
       "        0.000e+00, 0.000e+00, 0.000e+00, 0.000e+00, 0.000e+00, 0.000e+00,\n",
       "        0.000e+00, 0.000e+00, 0.000e+00, 0.000e+00, 0.000e+00, 0.000e+00,\n",
       "        0.000e+00, 0.000e+00, 0.000e+00, 0.000e+00, 0.000e+00, 0.000e+00,\n",
       "        0.000e+00, 0.000e+00, 0.000e+00, 0.000e+00, 0.000e+00, 0.000e+00,\n",
       "        0.000e+00, 0.000e+00, 0.000e+00, 0.000e+00, 0.000e+00, 0.000e+00,\n",
       "        0.000e+00, 0.000e+00, 0.000e+00, 0.000e+00, 0.000e+00, 0.000e+00,\n",
       "        0.000e+00, 0.000e+00, 1.000e+00, 0.000e+00, 0.000e+00, 0.000e+00,\n",
       "        0.000e+00, 0.000e+00, 0.000e+00, 0.000e+00, 0.000e+00, 0.000e+00,\n",
       "        0.000e+00, 0.000e+00, 0.000e+00, 0.000e+00, 0.000e+00, 0.000e+00,\n",
       "        0.000e+00, 0.000e+00, 0.000e+00, 0.000e+00, 0.000e+00, 0.000e+00,\n",
       "        0.000e+00, 0.000e+00, 0.000e+00, 0.000e+00, 0.000e+00, 0.000e+00,\n",
       "        0.000e+00, 0.000e+00, 0.000e+00, 0.000e+00, 0.000e+00, 0.000e+00,\n",
       "        0.000e+00, 0.000e+00, 0.000e+00, 0.000e+00, 0.000e+00, 0.000e+00,\n",
       "        0.000e+00, 0.000e+00, 0.000e+00, 0.000e+00, 0.000e+00, 0.000e+00,\n",
       "        0.000e+00, 0.000e+00, 0.000e+00, 0.000e+00, 0.000e+00, 0.000e+00,\n",
       "        0.000e+00, 0.000e+00, 0.000e+00, 0.000e+00, 0.000e+00, 0.000e+00,\n",
       "        0.000e+00, 0.000e+00, 0.000e+00, 0.000e+00, 0.000e+00, 0.000e+00,\n",
       "        0.000e+00, 0.000e+00, 0.000e+00, 0.000e+00, 0.000e+00, 0.000e+00,\n",
       "        0.000e+00, 0.000e+00, 0.000e+00, 0.000e+00, 0.000e+00, 0.000e+00,\n",
       "        0.000e+00, 0.000e+00, 0.000e+00, 0.000e+00, 0.000e+00, 0.000e+00,\n",
       "        0.000e+00, 0.000e+00, 0.000e+00, 0.000e+00, 0.000e+00, 0.000e+00,\n",
       "        0.000e+00, 0.000e+00, 0.000e+00, 0.000e+00, 0.000e+00, 0.000e+00,\n",
       "        0.000e+00, 0.000e+00, 0.000e+00, 0.000e+00, 0.000e+00, 0.000e+00,\n",
       "        0.000e+00, 0.000e+00, 0.000e+00, 0.000e+00, 0.000e+00, 0.000e+00,\n",
       "        0.000e+00, 0.000e+00, 0.000e+00, 0.000e+00, 0.000e+00, 0.000e+00,\n",
       "        0.000e+00, 0.000e+00, 0.000e+00, 0.000e+00, 0.000e+00, 0.000e+00,\n",
       "        0.000e+00, 0.000e+00, 0.000e+00, 0.000e+00, 0.000e+00, 0.000e+00,\n",
       "        0.000e+00, 0.000e+00, 0.000e+00, 0.000e+00, 0.000e+00, 0.000e+00,\n",
       "        0.000e+00, 0.000e+00, 0.000e+00, 0.000e+00, 0.000e+00, 0.000e+00,\n",
       "        0.000e+00, 0.000e+00, 0.000e+00, 0.000e+00, 0.000e+00, 0.000e+00,\n",
       "        0.000e+00, 0.000e+00, 0.000e+00, 0.000e+00, 0.000e+00, 0.000e+00,\n",
       "        0.000e+00, 0.000e+00, 0.000e+00, 0.000e+00, 0.000e+00, 0.000e+00,\n",
       "        0.000e+00, 0.000e+00, 0.000e+00, 0.000e+00, 0.000e+00, 0.000e+00,\n",
       "        0.000e+00, 0.000e+00, 0.000e+00, 0.000e+00, 0.000e+00, 0.000e+00,\n",
       "        0.000e+00, 0.000e+00, 0.000e+00, 0.000e+00, 0.000e+00, 0.000e+00,\n",
       "        0.000e+00, 0.000e+00, 0.000e+00, 0.000e+00, 0.000e+00, 0.000e+00,\n",
       "        0.000e+00, 0.000e+00, 0.000e+00, 0.000e+00, 0.000e+00, 0.000e+00,\n",
       "        0.000e+00, 0.000e+00, 0.000e+00, 0.000e+00, 0.000e+00, 0.000e+00,\n",
       "        0.000e+00, 0.000e+00, 0.000e+00, 0.000e+00, 0.000e+00, 0.000e+00,\n",
       "        0.000e+00, 0.000e+00, 0.000e+00, 0.000e+00, 0.000e+00, 0.000e+00,\n",
       "        0.000e+00, 0.000e+00, 0.000e+00, 0.000e+00, 0.000e+00, 0.000e+00,\n",
       "        0.000e+00, 0.000e+00, 0.000e+00, 0.000e+00, 0.000e+00, 0.000e+00,\n",
       "        0.000e+00, 0.000e+00, 0.000e+00, 1.000e+00]),\n",
       " array([0.00024064, 0.00040891, 0.00057718, ..., 0.1681779 , 0.16834618,\n",
       "        0.16851445]),\n",
       " <a list of 1000 Patch objects>)"
      ]
     },
     "execution_count": 55,
     "metadata": {
      "tags": []
     },
     "output_type": "execute_result"
    },
    {
     "data": {
      "image/png": "[encoded data removed]",
      "text/plain": [
       "<Figure size 432x288 with 1 Axes>"
      ]
     },
     "metadata": {
      "needs_background": "light",
      "tags": []
     },
     "output_type": "display_data"
    }
   ],
   "source": [
    "plt.hist(probs[:, 1], bins = 1000)"
   ]
  },
  {
   "cell_type": "code",
   "execution_count": 0,
   "metadata": {
    "colab": {},
    "colab_type": "code",
    "id": "4SGuQdjXM20l"
   },
   "outputs": [],
   "source": [
    "high_risk = plt.imread('/content/drive/My Drive/High Risk.jpg')\n",
    "medium_risk = plt.imread('/content/drive/My Drive/Medium Risk.jpg')\n",
    "low_risk = plt.imread('/content/drive/My Drive/Low Risk.jpg')"
   ]
  },
  {
   "cell_type": "code",
   "execution_count": 0,
   "metadata": {
    "colab": {},
    "colab_type": "code",
    "id": "-nsPn0USGZYN"
   },
   "outputs": [],
   "source": [
    "def find_rel_pos(prob):\n",
    "  probab = 100 * (1 - (prob_covid < prob).sum() / len(prob_covid))\n",
    "  print(f'According to our model, you are less likely to get COVID than {int(probab)} percent of people.')\n",
    "  return probab"
   ]
  },
  {
   "cell_type": "code",
   "execution_count": 0,
   "metadata": {
    "colab": {},
    "colab_type": "code",
    "id": "gaCTUHBLIIPY"
   },
   "outputs": [],
   "source": [
    "def model(params):\n",
    "  prob = logisticregression.predict_proba([params])[0][1]\n",
    "  print(prob)\n",
    "  find_rel_pos(prob)"
   ]
  },
  {
   "cell_type": "markdown",
   "metadata": {
    "colab_type": "text",
    "id": "uv9O2vxXO1Ds"
   },
   "source": [
    "Infermedica API Information\n",
    "\n",
    "Application ID: eff3bb9b Application keys: ee299652c71a7a7b4a18b3faac74045e"
   ]
  },
  {
   "cell_type": "code",
   "execution_count": 0,
   "metadata": {
    "colab": {
     "base_uri": "https://localhost:8080/",
     "height": 50
    },
    "colab_type": "code",
    "executionInfo": {
     "elapsed": 396,
     "status": "ok",
     "timestamp": 1590902089698,
     "user": {
      "displayName": "J.D. Zhao",
      "photoUrl": "https://lh3.googleusercontent.com/a-/AOh14Gg69Uyv7KPFlyvoLh3NKujyQGl-fqPpIHfQwjjFBw=s64",
      "userId": "02904637952816276559"
     },
     "user_tz": 420
    },
    "id": "a9ovUfXfHucs",
    "outputId": "285f6770-a6b6-405c-eebf-240080a487de"
   },
   "outputs": [
    {
     "name": "stdout",
     "output_type": "stream",
     "text": [
      "0.005203174629827511\n",
      "According to our model, you are less likely to get COVID than 3 percent of people.\n"
     ]
    }
   ],
   "source": [
    "find_covid([19, 180, 70, 25, 6, 0,1,0,0,0,0,0,0,0,0,0,0,0,0,0])\n",
    "\n",
    "def model(symptoms, nursing_home, age_80_plus, covid_19_contact, male):\n",
    "  return (2.718281828 ** (-7.05 + 2.8731 * symptoms + 2.9192 * nursing_home + 2.1929 * age_80_plus + 1.6362 * covid_19_contact + 0.5395 * male)) / (1 + 2.718281828 ** (-7.05 + 2.8731 * symptoms + 2.9192 * nursing_home + 2.1929 * age_80_plus + 1.6362 * covid_19_contact + 0.5395 * male))"
   ]
  },
  {
   "cell_type": "code",
   "execution_count": 0,
   "metadata": {
    "colab": {},
    "colab_type": "code",
    "id": "_24UtPAUHxdY"
   },
   "outputs": [],
   "source": [
    "import pickle as pkl\n",
    "pkl.dump(logisticregression, open( \"/content/drive/My Drive/logreg.pkl\", \"wb\" ) )"
   ]
  },
  {
   "cell_type": "code",
   "execution_count": 0,
   "metadata": {
    "colab": {},
    "colab_type": "code",
    "id": "S2KKp4eGyOZh"
   },
   "outputs": [],
   "source": [
    "def model(symptoms, nursing_home, age_80_plus, covid_19_contact, male):\n",
    "  probability = (2.718281828 ** (-7.05 + 2.8731 * symptoms + 2.9192 * nursing_home + 2.1929 * age_80_plus + 1.6362 * covid_19_contact + 0.5395 * male)) / (1 + 2.718281828 ** (-7.05 + 2.8731 * symptoms + 2.9192 * nursing_home + 2.1929 * age_80_plus + 1.6362 * covid_19_contact + 0.5395 * male))\n",
    "  plt.xticks([])\n",
    "  plt.yticks([])\n",
    "  if probability > 0.5:\n",
    "    plt.imshow(high_risk)\n",
    "  elif probability > 0.1:\n",
    "    plt.imshow(medium_risk)\n",
    "  else:\n",
    "    plt.imshow(low_risk)\n",
    "  return probability\n"
   ]
  },
  {
   "cell_type": "code",
   "execution_count": 0,
   "metadata": {
    "colab": {
     "base_uri": "https://localhost:8080/",
     "height": 269
    },
    "colab_type": "code",
    "executionInfo": {
     "elapsed": 589,
     "status": "ok",
     "timestamp": 1590929558682,
     "user": {
      "displayName": "J.D. Zhao",
      "photoUrl": "https://lh3.googleusercontent.com/a-/AOh14Gg69Uyv7KPFlyvoLh3NKujyQGl-fqPpIHfQwjjFBw=s64",
      "userId": "02904637952816276559"
     },
     "user_tz": 420
    },
    "id": "9a-rM6upyPNK",
    "outputId": "25191bd4-a717-4e7e-f261-16a6d1993f4f"
   },
   "outputs": [
    {
     "data": {
      "text/plain": [
       "0.9573401269004513"
      ]
     },
     "execution_count": 8,
     "metadata": {
      "tags": []
     },
     "output_type": "execute_result"
    },
    {
     "data": {
      "image/png": "[encoded data removed]",
      "text/plain": [
       "<Figure size 432x288 with 1 Axes>"
      ]
     },
     "metadata": {
      "tags": []
     },
     "output_type": "display_data"
    }
   ],
   "source": [
    "model(nursing_home=True, symptoms=True, age_80_plus=True, covid_19_contact=True, male=True)"
   ]
  },
  {
   "cell_type": "code",
   "execution_count": 0,
   "metadata": {
    "colab": {
     "base_uri": "https://localhost:8080/",
     "height": 269
    },
    "colab_type": "code",
    "executionInfo": {
     "elapsed": 587,
     "status": "ok",
     "timestamp": 1590929589411,
     "user": {
      "displayName": "J.D. Zhao",
      "photoUrl": "https://lh3.googleusercontent.com/a-/AOh14Gg69Uyv7KPFlyvoLh3NKujyQGl-fqPpIHfQwjjFBw=s64",
      "userId": "02904637952816276559"
     },
     "user_tz": 420
    },
    "id": "bmehFgPCyT1k",
    "outputId": "f2f22459-7a8b-4f6a-c155-dc16e332b685"
   },
   "outputs": [
    {
     "data": {
      "text/plain": [
       "0.11907698731689315"
      ]
     },
     "execution_count": 9,
     "metadata": {
      "tags": []
     },
     "output_type": "execute_result"
    },
    {
     "data": {
      "image/png": "[encoded data removed]",
      "text/plain": [
       "<Figure size 432x288 with 1 Axes>"
      ]
     },
     "metadata": {
      "tags": []
     },
     "output_type": "display_data"
    }
   ],
   "source": [
    "model(nursing_home=False, symptoms=True, age_80_plus=False, covid_19_contact=True, male=True)"
   ]
  },
  {
   "cell_type": "code",
   "execution_count": 0,
   "metadata": {
    "colab": {
     "base_uri": "https://localhost:8080/",
     "height": 269
    },
    "colab_type": "code",
    "executionInfo": {
     "elapsed": 531,
     "status": "ok",
     "timestamp": 1590929611693,
     "user": {
      "displayName": "J.D. Zhao",
      "photoUrl": "https://lh3.googleusercontent.com/a-/AOh14Gg69Uyv7KPFlyvoLh3NKujyQGl-fqPpIHfQwjjFBw=s64",
      "userId": "02904637952816276559"
     },
     "user_tz": 420
    },
    "id": "uTTTq8lgywH_",
    "outputId": "ae3b06d6-d7f3-41cb-921d-3ffcdeb24a52"
   },
   "outputs": [
    {
     "data": {
      "text/plain": [
       "0.0008666572121101084"
      ]
     },
     "execution_count": 10,
     "metadata": {
      "tags": []
     },
     "output_type": "execute_result"
    },
    {
     "data": {
      "image/png": "[encoded data removed]",
      "text/plain": [
       "<Figure size 432x288 with 1 Axes>"
      ]
     },
     "metadata": {
      "tags": []
     },
     "output_type": "display_data"
    }
   ],
   "source": [
    "model(nursing_home=False, symptoms=False, age_80_plus=False, covid_19_contact=False, male=False)"
   ]
  },
  {
   "cell_type": "code",
   "execution_count": 0,
   "metadata": {
    "colab": {},
    "colab_type": "code",
    "id": "YExcLeZay1lS"
   },
   "outputs": [],
   "source": []
  }
 ],
 "metadata": {
  "colab": {
   "collapsed_sections": [],
   "name": "COVID19.ipynb",
   "provenance": []
  },
  "kernelspec": {
   "display_name": "Python 3",
   "language": "python",
   "name": "python3"
  },
  "language_info": {
   "codemirror_mode": {
    "name": "ipython",
    "version": 3
   },
   "file_extension": ".py",
   "mimetype": "text/x-python",
   "name": "python",
   "nbconvert_exporter": "python",
   "pygments_lexer": "ipython3",
   "version": "3.7.4"
  }
 },
 "nbformat": 4,
 "nbformat_minor": 1
}
